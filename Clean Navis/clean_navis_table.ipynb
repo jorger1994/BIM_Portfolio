{
 "cells": [
  {
   "cell_type": "code",
   "execution_count": 1,
   "id": "104d2d8c",
   "metadata": {},
   "outputs": [],
   "source": [
    "import numpy as np\n",
    "import pandas as pd"
   ]
  },
  {
   "cell_type": "code",
   "execution_count": 2,
   "id": "a54c9ed3",
   "metadata": {},
   "outputs": [],
   "source": [
    "# file_path = 'C:/Users/dioc/Desktop/ALL TUB vs ARQ-UPT2.html'\n",
    "# file_path = 'C:/Users/jorge/Documents/Portfolio/Python/python_scripts_trabajo/ALL COND vs ARQ-UPT.html'\n",
    "file_path = 'ALL COND vs ARQ-UPT.html'\n",
    "df = pd.read_html(file_path)[2]\n",
    "df.columns = df.iloc[1]\n",
    "df.drop([0,1], inplace = True)\n",
    "\n",
    "cols = []\n",
    "n = 1\n",
    "for column in df.columns:\n",
    "    if column == 'Item ID':\n",
    "        cols.append(f'{column}_{n}')\n",
    "        n +=1\n",
    "    else:\n",
    "        cols.append(column)\n",
    "        \n",
    "df.columns = cols\n",
    "df = df.loc[:,~df.columns.duplicated()]\n",
    "columns_to_drop = df.columns[0]\n",
    "df.drop(columns = columns_to_drop, inplace = True)\n",
    "df.reset_index(drop = True, inplace = True)\n",
    "df['Level'] = df['Grid Location'].str.split(':').str[1]\n",
    "df['Level'] = df['Level'].str.lstrip()\n",
    "\n",
    "excel_save_path = 'TUB_ARQ.xlsx'\n",
    "with pd.ExcelWriter(excel_save_path) as writer:\n",
    "    for level in df['Level'].unique():\n",
    "        level_df_filter = df['Level'] == level\n",
    "        level_df = df[level_df_filter]\n",
    "        level_df.to_excel(writer, sheet_name = level)"
   ]
  },
  {
   "cell_type": "code",
   "execution_count": 13,
   "id": "d39b2d16",
   "metadata": {},
   "outputs": [
    {
     "data": {
      "text/plain": [
       "array(['GE80-P_01', 'GE80-P_02', 'GE80-P_03', 'GE80-P_04', 'GE80-P_05',\n",
       "       'GE80-P_CUB_01'], dtype=object)"
      ]
     },
     "execution_count": 13,
     "metadata": {},
     "output_type": "execute_result"
    }
   ],
   "source": [
    "df['Level'].unique()"
   ]
  },
  {
   "cell_type": "code",
   "execution_count": null,
   "id": "093280ad",
   "metadata": {},
   "outputs": [],
   "source": []
  }
 ],
 "metadata": {
  "kernelspec": {
   "display_name": "Python 3 (ipykernel)",
   "language": "python",
   "name": "python3"
  },
  "language_info": {
   "codemirror_mode": {
    "name": "ipython",
    "version": 3
   },
   "file_extension": ".py",
   "mimetype": "text/x-python",
   "name": "python",
   "nbconvert_exporter": "python",
   "pygments_lexer": "ipython3",
   "version": "3.8.6"
  }
 },
 "nbformat": 4,
 "nbformat_minor": 5
}
